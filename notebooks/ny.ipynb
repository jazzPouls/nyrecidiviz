{
 "cells": [
  {
   "cell_type": "code",
   "execution_count": 46,
   "id": "indonesian-relief",
   "metadata": {},
   "outputs": [],
   "source": [
    "import numpy as np\n",
    "import pandas as pd\n",
    "import matplotlib as plt\n",
    "import time\n",
    "pd.set_option('display.max_columns', 500)\n",
    "pd.set_option('display.max_rows', None)"
   ]
  },
  {
   "cell_type": "code",
   "execution_count": 47,
   "id": "muslim-yacht",
   "metadata": {},
   "outputs": [],
   "source": [
    "date_cols = ['DOB','dateReceivedOriginal','dateReceivedCurrent','latestReleaseDate','paroleHearingDate','maxExpirationDateParole','postReleaseMaxExpiration','paroleBoardDischargeDate']\n",
    "transition_table_cols = ['dateReceivedOriginal','latestReleaseDate','earliestReleaseDate','conditionalReleaseDate','minSentence','maxSentence','crime1','class1','crime2','class2','crime3','class3','crime4','class4']\n",
    "THIRTY_YRS = 360"
   ]
  },
  {
   "cell_type": "code",
   "execution_count": 48,
   "id": "casual-therapist",
   "metadata": {},
   "outputs": [
    {
     "name": "stderr",
     "output_type": "stream",
     "text": [
      "/Users/jpouls/miniconda3/lib/python3.8/site-packages/IPython/core/interactiveshell.py:3347: DtypeWarning: Columns (13,14) have mixed types.Specify dtype option on import or set low_memory=False.\n",
      "  if (await self.run_code(code, result,  async_=asy)):\n",
      "/Users/jpouls/miniconda3/lib/python3.8/site-packages/IPython/core/interactiveshell.py:3347: DtypeWarning: Columns (14) have mixed types.Specify dtype option on import or set low_memory=False.\n",
      "  if (await self.run_code(code, result,  async_=asy)):\n"
     ]
    }
   ],
   "source": [
    "dfs = [pd.read_csv(\"/Users/jpouls/recidiviz/nyrecidiviz/ny_inmate_data/inmates\"+str(year)+\".csv\",index_col=0,parse_dates=date_cols,na_filter=False) for year in range(2000,2021)]\n",
    "df_full = pd.concat(dfs)"
   ]
  },
  {
   "cell_type": "code",
   "execution_count": 49,
   "id": "vanilla-villa",
   "metadata": {},
   "outputs": [
    {
     "name": "stdout",
     "output_type": "stream",
     "text": [
      "313291\n",
      "212309\n",
      "206973\n"
     ]
    }
   ],
   "source": [
    "df = df_full.copy()\n",
    "print(df.shape[0])\n",
    "\n",
    "# ignore reentries\n",
    "df = df[df.dateReceivedOriginal == df.dateReceivedCurrent]\n",
    "print(df.shape[0])\n",
    "\n",
    "# ignore no crime records\n",
    "df = df[df.crime1 != 'NO CRIME RECORD AVAIL']\n",
    "print(df.shape[0])\n",
    "\n",
    "# trim to essential columns\n",
    "a = df[transition_table_cols]"
   ]
  },
  {
   "cell_type": "code",
   "execution_count": 50,
   "id": "smooth-flesh",
   "metadata": {},
   "outputs": [],
   "source": [
    "# set conditionalReleaseDate as earliestReleaseDate if 'NONE'\n",
    "b = a.copy()\n",
    "mask = b['conditionalReleaseDate'] == 'NONE'\n",
    "b.loc[mask,'conditionalReleaseDate'] = b['earliestReleaseDate']"
   ]
  },
  {
   "cell_type": "code",
   "execution_count": 51,
   "id": "elect-harris",
   "metadata": {},
   "outputs": [],
   "source": [
    "# set conditionalReleaseDate as DATE_FAR_IN_FUTURE if 'LIFE'\n",
    "c = b.copy()\n",
    "mask = c['conditionalReleaseDate'] == 'LIFE'\n",
    "c.loc[mask, 'conditionalReleaseDate'] = '2/22/2222'"
   ]
  },
  {
   "cell_type": "code",
   "execution_count": 52,
   "id": "specified-providence",
   "metadata": {},
   "outputs": [],
   "source": [
    "# set enddate, with priority to latestReleaseDate, conditionalReleaseDate otherwise\n",
    "c['enddate'] = c.latestReleaseDate.combine_first(c.conditionalReleaseDate)\n",
    "\n",
    "# set LOS as timedelta between enddate and entrydate\n",
    "c['LOS'] = c.enddate - c.dateReceivedOriginal\n",
    "\n",
    "# ignore records with erroneous negative LOS\n",
    "c = c[c.LOS.dt.days > 0]"
   ]
  },
  {
   "cell_type": "code",
   "execution_count": 53,
   "id": "killing-tennis",
   "metadata": {},
   "outputs": [],
   "source": [
    "# get most serious crime by class\n",
    "def getCrime(df):\n",
    "    df['crime'], df['crime_class'] = df['crime1'],df['class1']\n",
    "    for i in [2,3,4]:\n",
    "        cl = df['class'+str(i)]\n",
    "        if not cl:\n",
    "            return df\n",
    "        if cl < df['crime_class']:\n",
    "            df['crime'], df['crime_class'] = df['crime'+str(i)], cl\n",
    "    return df\n",
    "c = c.apply(getCrime,axis=1)\n",
    "\n",
    "# clean up df\n",
    "c['crime'] = c.crime + '|' + c.crime_class\n",
    "c = c[['dateReceivedOriginal','LOS','crime']]\n",
    "c['LOS'] = np.ceil(c.LOS.dt.days*12/365)"
   ]
  },
  {
   "cell_type": "code",
   "execution_count": 69,
   "id": "italic-insert",
   "metadata": {},
   "outputs": [],
   "source": [
    "d = c.copy()\n",
    "d['dateIn'] = d.dateReceivedOriginal\n",
    "d = d[['dateIn','crime']]\n",
    "d['moBin'] = d['dateIn'].apply(lambda x: \"%d/%d\" % (x.month, x.year))\n",
    "d['moNo'] = d['dateIn'].apply(lambda x: x.month + 12*(x.year-2000))\n",
    "outflows = d.groupby(['moNo','crime'])['moBin'].count()"
   ]
  },
  {
   "cell_type": "code",
   "execution_count": 72,
   "id": "herbal-samoa",
   "metadata": {},
   "outputs": [],
   "source": [
    "csv_file = '/Users/jpouls/recidiviz/nyrecidiviz/mm_preprocessing/outflowfull/outflowfull'+str(int(time.time()))+'.csv'\n",
    "outflows.to_csv(csv_file)\n",
    "e = pd.read_csv(csv_file)\n",
    "e['compartment'] = 'pre-trial'\n",
    "e['outflow_to'] = 'prison'\n",
    "e['total_population'] = e.moBin\n",
    "e['time_step'] = e.moNo\n",
    "e['crime_type'] = e.crime\n",
    "e = e[['compartment','outflow_to','total_population','time_step','crime_type']]\n",
    "e.to_csv(csv_file)"
   ]
  },
  {
   "cell_type": "code",
   "execution_count": 89,
   "id": "downtown-basement",
   "metadata": {},
   "outputs": [],
   "source": [
    "# cap LOS at 30yr\n",
    "d = c.copy()\n",
    "mask = d['LOS'] > THIRTY_YRS\n",
    "d.loc[mask,'LOS'] = THIRTY_YRS"
   ]
  },
  {
   "cell_type": "code",
   "execution_count": null,
   "id": "urban-injection",
   "metadata": {},
   "outputs": [],
   "source": [
    "transition_df_by_crime = []\n",
    "\n",
    "for crime in d.crime.value_counts().index:\n",
    "    # get sub-dataframe with specific crime\n",
    "    by_crime = d[d.crime == crime]\n",
    "    \n",
    "    # fn to subtract released inmates from total inmates\n",
    "    minus = lambda x: len(by_crime.index) - x\n",
    "    \n",
    "    # combine inmates with the same LOS\n",
    "    LOS_count = by_crime.groupby('LOS').count()\n",
    "    \n",
    "    # np.cumsum gets num_of_inmates_released_so_far, minus + LOS_count gets num_of_inmates_remaining\n",
    "    LOS_count['n_left'] = minus(np.cumsum(LOS_count).crime)+LOS_count.crime\n",
    "    \n",
    "    # calculate proportion of inmates released, of those remaining\n",
    "    LOS_count['transition'] = LOS_count.crime/(LOS_count.n_left)\n",
    "    \n",
    "    # add crime for disaggregation and save df to list\n",
    "    LOS_count['CRIME'] = crime\n",
    "    transition_df_by_crime.append(LOS_count[['transition','CRIME']])\n",
    "    \n",
    "t = pd.concat(transition_df_by_crime)"
   ]
  },
  {
   "cell_type": "code",
   "execution_count": 91,
   "id": "enormous-blake",
   "metadata": {},
   "outputs": [],
   "source": [
    "t['compartment'] = 'prison'\n",
    "t['outflow_to'] = 'release'\n",
    "t['total_population'] = t.transition\n",
    "t['compartment_duration'] = t.index\n",
    "t['crime_type'] = t.CRIME\n",
    "t = t[['compartment','outflow_to','total_population','compartment_duration','crime_type']]\n",
    "\n",
    "transitions = t.reset_index(drop=True)\n",
    "transitions.to_csv('/Users/jpouls/recidiviz/nyrecidiviz/mm_preprocessing/transitionfull/transitionfull'+str(int(time.time()))+'.csv')"
   ]
  }
 ],
 "metadata": {
  "kernelspec": {
   "display_name": "Python 3",
   "language": "python",
   "name": "python3"
  },
  "language_info": {
   "codemirror_mode": {
    "name": "ipython",
    "version": 3
   },
   "file_extension": ".py",
   "mimetype": "text/x-python",
   "name": "python",
   "nbconvert_exporter": "python",
   "pygments_lexer": "ipython3",
   "version": "3.8.5"
  }
 },
 "nbformat": 4,
 "nbformat_minor": 5
}
