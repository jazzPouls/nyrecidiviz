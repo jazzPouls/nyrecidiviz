{
 "cells": [
  {
   "cell_type": "code",
   "execution_count": 2,
   "id": "indonesian-relief",
   "metadata": {},
   "outputs": [],
   "source": [
    "import numpy as np\n",
    "import pandas as pd\n",
    "import matplotlib as plt\n",
    "import time\n",
    "pd.set_option('display.max_columns', 500)\n",
    "pd.set_option('display.max_rows', None)"
   ]
  },
  {
   "cell_type": "code",
   "execution_count": 3,
   "id": "muslim-yacht",
   "metadata": {},
   "outputs": [],
   "source": [
    "date_cols = ['DOB','dateReceivedOriginal','dateReceivedCurrent','latestReleaseDate','paroleHearingDate','maxExpirationDateParole','postReleaseMaxExpiration','paroleBoardDischargeDate']\n",
    "date_cols_unpure = ['earliestRelaseDate','paroleEligibilityDate','conditionalReleaseDate','maxExpirationDate']\n",
    "transition_table_cols = ['custodyStatus','dateReceivedOriginal','latestReleaseDate','earliestReleaseDate','conditionalReleaseDate','minSentence','maxSentence','crime1','class1','crime2','class2','crime3','class3','crime4','class4']\n",
    "THIRTY_YRS = 10950"
   ]
  },
  {
   "cell_type": "code",
   "execution_count": 4,
   "id": "casual-therapist",
   "metadata": {},
   "outputs": [
    {
     "name": "stderr",
     "output_type": "stream",
     "text": [
      "/Users/jpouls/miniconda3/lib/python3.8/site-packages/IPython/core/interactiveshell.py:3347: DtypeWarning: Columns (13,14) have mixed types.Specify dtype option on import or set low_memory=False.\n",
      "  if (await self.run_code(code, result,  async_=asy)):\n",
      "/Users/jpouls/miniconda3/lib/python3.8/site-packages/IPython/core/interactiveshell.py:3347: DtypeWarning: Columns (14) have mixed types.Specify dtype option on import or set low_memory=False.\n",
      "  if (await self.run_code(code, result,  async_=asy)):\n"
     ]
    }
   ],
   "source": [
    "dfs = [pd.read_csv(\"/Users/jpouls/recidiviz/nyrecidiviz/ny_inmate_data/inmates\"+str(year)+\".csv\",index_col=0,parse_dates=date_cols,na_filter=False) for year in range(2000,2021)]\n",
    "df_full = pd.concat(dfs)"
   ]
  },
  {
   "cell_type": "code",
   "execution_count": 5,
   "id": "vanilla-villa",
   "metadata": {},
   "outputs": [
    {
     "name": "stdout",
     "output_type": "stream",
     "text": [
      "313291\n"
     ]
    }
   ],
   "source": [
    "df = df_full.copy()\n",
    "print(df.shape[0])\n",
    "\n",
    "# ignore reentries\n",
    "df = df[df.dateReceivedOriginal == df.dateReceivedCurrent]\n",
    "\n",
    "# ignore no crime records\n",
    "df = df[df.crime1 != 'NO CRIME RECORD AVAIL']\n",
    "\n",
    "# trim to essential columns\n",
    "a = df[transition_table_cols]"
   ]
  },
  {
   "cell_type": "code",
   "execution_count": 6,
   "id": "smooth-flesh",
   "metadata": {},
   "outputs": [],
   "source": [
    "# set conditionalReleaseDate as earliestReleaseDate if 'NONE'\n",
    "b = a.copy()\n",
    "mask = b['conditionalReleaseDate'] == 'NONE'\n",
    "b.loc[mask,'conditionalReleaseDate'] = b['earliestReleaseDate']"
   ]
  },
  {
   "cell_type": "code",
   "execution_count": 7,
   "id": "elect-harris",
   "metadata": {},
   "outputs": [],
   "source": [
    "# set conditionalReleaseDate as DATE_FAR_IN_FUTURE if 'LIFE'\n",
    "c = b.copy()\n",
    "mask = c['conditionalReleaseDate'] == 'LIFE'\n",
    "c.loc[mask, 'conditionalReleaseDate'] = '2/22/2222'"
   ]
  },
  {
   "cell_type": "code",
   "execution_count": 8,
   "id": "specified-providence",
   "metadata": {},
   "outputs": [
    {
     "name": "stdout",
     "output_type": "stream",
     "text": [
      "206953\n"
     ]
    }
   ],
   "source": [
    "# set enddate, with priority to latestReleaseDate, conditionalReleaseDate otherwise\n",
    "c['enddate'] = c.latestReleaseDate.combine_first(c.conditionalReleaseDate)\n",
    "\n",
    "# set LOS as timedelta between enddate and entrydate\n",
    "c['LOS'] = c.enddate - c.dateReceivedOriginal\n",
    "\n",
    "# ignore records with erroneous negative LOS\n",
    "c = c[c.LOS.dt.days > 0]\n",
    "\n",
    "print(c.shape[0])"
   ]
  },
  {
   "cell_type": "code",
   "execution_count": 9,
   "id": "killing-tennis",
   "metadata": {},
   "outputs": [],
   "source": [
    "# get most serious crime by class\n",
    "def getCrime(df):\n",
    "    df['crime'], df['crime_class'] = df['crime1'],df['class1']\n",
    "    for i in [2,3,4]:\n",
    "        cl = df['class'+str(i)]\n",
    "        if not cl:\n",
    "            return df\n",
    "        if cl < df['crime_class']:\n",
    "            df['crime'], df['crime_class'] = df['crime'+str(i)], cl\n",
    "    return df\n",
    "c = c.apply(getCrime,axis=1)\n",
    "\n",
    "# clean up df\n",
    "c['crime'] = c.crime + '|' + c.crime_class\n",
    "c = c[['dateReceivedOriginal','LOS','crime']]\n",
    "c['LOS'] = c.LOS.dt.days"
   ]
  },
  {
   "cell_type": "code",
   "execution_count": 17,
   "id": "angry-thanksgiving",
   "metadata": {},
   "outputs": [
    {
     "data": {
      "text/plain": [
       "moNo  crime                               \n",
       "1     AGG UNLIC OPER MV 1ST|E                  1\n",
       "      AGGRAVATED CRIM CONTEMPT|D               1\n",
       "      ARSON 2ND|B                              1\n",
       "      ASSAULT 1ST|B                           10\n",
       "      ASSAULT 2ND|D                           12\n",
       "      ATT ARSON 2ND|C                          1\n",
       "      ATT ASSAULT 1ST|C                        5\n",
       "      ATT ASSAULT 2ND|E                        4\n",
       "      ATT BURGLARY 1ST|C                       2\n",
       "      ATT BURGLARY 2ND|D                      15\n",
       "      ATT BURGLARY 3RD|E                      10\n",
       "      ATT CRIM POSS CONTR SUBSTANCE 3RD|C     21\n",
       "      ATT CRIM POSS CONTR SUBSTANCE 4TH|D      5\n",
       "      ATT CRIM POSS CONTR SUBSTANCE 5TH|E     12\n",
       "      ATT CRIM POSS FORGED INST 2ND|E          5\n",
       "      ATT CRIM POSS WEAP 2ND|D                 1\n",
       "      ATT CRIM POSS WEAP 3RD SUB 1 2 3|E       2\n",
       "      ATT CRIM POSS WEAP 3RD SUB 4-8 VFO|E     4\n",
       "      ATT CRIM SALE CONTR SUBSTANCE 3RD|C     81\n",
       "      ATT CRIM SALE CONTR SUBSTANCE 4TH|D      1\n",
       "      ATT CRIM SALE CONTR SUBSTANCE 5TH|E     16\n",
       "      ATT FORGERY 2ND|E                        2\n",
       "      ATT GRAND LARCENY - AUTO 3RD|E           2\n",
       "      ATT JO - MURDER 2ND|B                    1\n",
       "      ATT KIDNAPPING 2ND|C                     2\n",
       "      ATT MANSLAUGHTER 1ST|C                   1\n",
       "      ATT MURDER 1ST|A1                        1\n",
       "      ATT MURDER 2ND|B                         7\n",
       "      ATT PROM PRISON CONTRABAND 1ST|E         1\n",
       "      ATT RECKLESS ENDANGERMENT 1ST|E          2\n",
       "      ATT ROBBERY 1ST|C                       19\n",
       "      ATT ROBBERY 2ND|D                       14\n",
       "      ATT ROBBERY 3RD|E                        4\n",
       "      ATT SEXUAL ABUSE 1ST|E                   5\n",
       "      ATT SODOMY 1ST|C                         1\n",
       "      AUTO STRIPPING 2ND|E                     4\n",
       "      BAIL JUMPING 1ST|D                       1\n",
       "      BAIL JUMPING 2ND|E                       1\n",
       "      BURGLARY 1ST|B                           5\n",
       "      BURGLARY 2ND SUB 2|C                     1\n",
       "      BURGLARY 2ND|C                          20\n",
       "      BURGLARY 3RD|D                          30\n",
       "      COERCION 1ST|D                           1\n",
       "      COMMERCIAL BRIBE REC 1ST|E               1\n",
       "      CONSPIRACY 2ND|B                         7\n",
       "      CONSPIRACY 4TH|E                         1\n",
       "      COURSE SEX CONDUCT-CHILD 1ST|B           1\n",
       "      CRIM CONTEMPT 1ST|E                      7\n",
       "      CRIM NEGLIGENT HOMICIDE|E                1\n",
       "      CRIM POSS CONTR SUBSTANCE 1ST|A1         1\n",
       "      CRIM POSS CONTR SUBSTANCE 2ND|A2        22\n",
       "      CRIM POSS CONTR SUBSTANCE 3RD|B         45\n",
       "      CRIM POSS CONTR SUBSTANCE 4TH|C          8\n",
       "      CRIM POSS CONTR SUBSTANCE 5TH|D         37\n",
       "      CRIM POSS FORGED INST 2ND|D              5\n",
       "      CRIM POSS MARIHUANA 2ND|D                3\n",
       "      CRIM POSS STOLEN PROP 2ND|C              1\n",
       "      CRIM POSS STOLEN PROP 3RD|D              9\n",
       "      CRIM POSS STOLEN PROP 4TH|E             14\n",
       "      CRIM POSS WEAP 2ND|C                     4\n",
       "      CRIM POSS WEAP 3RD SUB 1 2 3|D           3\n",
       "      CRIM POSS WEAP 3RD SUB 4-8 VFO|D        10\n",
       "      CRIM SALE CONTR SUBS - SCHOOL|B          8\n",
       "      CRIM SALE CONTR SUBSTANCE 2ND|A2        21\n",
       "      CRIM SALE CONTR SUBSTANCE 3RD|B         93\n",
       "      CRIM SALE CONTR SUBSTANCE 4TH|C          2\n",
       "      CRIM SALE CONTR SUBSTANCE 5TH|D         81\n",
       "      CRIM USE OF FIREARMS 1ST|B               1\n",
       "      DRIV IMP/DRUGS-2ND OFFENSE|E             2\n",
       "      DWI:ALCOHOL/DRUGS-2ND OFFENSE|E         16\n",
       "      DWI:ALCOHOL/DRUGS-3RD OFFENSE|D          1\n",
       "      ENTERPRISE CORRUPTION|B                  1\n",
       "      FORGERY 1ST|C                            1\n",
       "      FORGERY 2ND|D                            3\n",
       "      FORGERY OF VEHICLE ID. NUMBER|E          1\n",
       "      GRAND LARCENY - AUTO 3RD|D               3\n",
       "      GRAND LARCENY - AUTO 4TH|E               5\n",
       "      GRAND LARCENY - NOT AUTO 2ND|C           4\n",
       "      GRAND LARCENY - NOT AUTO 3RD|D           4\n",
       "      GRAND LARCENY - NOT AUTO 4TH|E          19\n",
       "      INCEST|E                                 1\n",
       "      JO - MURDER 2ND|A1                       1\n",
       "      JO - ROBBERY 1ST|B                       1\n",
       "      MANSLAUGHTER 1ST|B                       9\n",
       "      MANSLAUGHTER 2ND|C                       3\n",
       "      MURDER 1ST|A1                            2\n",
       "      MURDER 2ND|A1                           20\n",
       "      OFFER FALSE INST FILING 1ST|E            2\n",
       "      PERJURY 1ST|D                            1\n",
       "      PROM SEXUAL PERF BY A CHILD|D            1\n",
       "      RAPE 1ST|B                               4\n",
       "      RAPE 2ND|D                               1\n",
       "      RAPE 3RD|E                               2\n",
       "      RECKLESS ENDANGERMENT 1ST|D              3\n",
       "      ROBBERY 1ST|B                           22\n",
       "      ROBBERY 2ND SUB 2 3|C                    1\n",
       "      ROBBERY 2ND|C                           11\n",
       "      ROBBERY 3RD|D                           15\n",
       "      SEXUAL ABUSE 1ST|D                      19\n",
       "      SODOMY 1ST|B                             6\n",
       "Name: moBin, dtype: int64"
      ]
     },
     "execution_count": 17,
     "metadata": {},
     "output_type": "execute_result"
    }
   ],
   "source": [
    "d = c.copy()\n",
    "d['dateIn'] = d.dateReceivedOriginal\n",
    "d = d[['dateIn','crime']]\n",
    "d['moBin'] = d['dateIn'].apply(lambda x: \"%d/%d\" % (x.month, x.year))\n",
    "d['moNo'] = d['dateIn'].apply(lambda x: x.month + 12*(x.year-2000))\n",
    "outflows = d.groupby(['moNo','crime'])['moBin'].count()\n",
    "outflows.head(100)\n",
    "# outflows.to_csv('/Users/jpouls/recidiviz/nyrecidiviz/mm_preprocessing/outflowfull/outflowfull'+str(int(time.time()))+'.csv')"
   ]
  },
  {
   "cell_type": "code",
   "execution_count": 11,
   "id": "downtown-basement",
   "metadata": {},
   "outputs": [],
   "source": [
    "# cap LOS at 30yr\n",
    "d = c.copy()\n",
    "mask = d['LOS'] > THIRTY_YRS\n",
    "d.loc[mask,'LOS'] = THIRTY_YRS"
   ]
  },
  {
   "cell_type": "code",
   "execution_count": 12,
   "id": "urban-injection",
   "metadata": {},
   "outputs": [],
   "source": [
    "transition_df_by_crime = []\n",
    "\n",
    "for crime in d.crime.value_counts().index:\n",
    "    # get sub-dataframe with specific crime\n",
    "    by_crime = d[d.crime == crime]\n",
    "    \n",
    "    # fn to subtract released inmates from total inmates\n",
    "    minus = lambda x: len(by_crime.index) - x\n",
    "    \n",
    "    # combine inmates with the same LOS\n",
    "    LOS_count = by_crime.groupby('LOS').count()\n",
    "    \n",
    "    # np.cumsum gets num_of_inmates_released_so_far, minus + LOS_count gets num_of_inmates_remaining\n",
    "    LOS_count['n_left'] = minus(np.cumsum(LOS_count).crime)+LOS_count.crime\n",
    "    \n",
    "    # calculate proportion of inmates released, of those remaining\n",
    "    LOS_count['transition'] = LOS_count.crime/(LOS_count.n_left)\n",
    "    \n",
    "    # add crime for disaggregation and save df to list\n",
    "    LOS_count['CRIME'] = crime\n",
    "    transition_df_by_crime.append(LOS_count[['transition','CRIME']])\n",
    "\n",
    "transitions = pd.concat(transition_df_by_crime)\n",
    "\n",
    "\n",
    "transitions.to_csv('/Users/jpouls/recidiviz/nyrecidiviz/mm_preprocessing/transitionfull/transitionfull'+str(int(time.time()))+'.csv')"
   ]
  },
  {
   "cell_type": "code",
   "execution_count": 13,
   "id": "prescription-performer",
   "metadata": {},
   "outputs": [],
   "source": [
    "# OLD\n",
    "# diffdates[~diffdates.paroleHearingType.str.contains(\"VIOLA\")]\n",
    "# merg = pd.merge(diffdates, parole_viol, how='inner', on=['DIN'])\n",
    "# c['crime_short'] = c.crime.str.extract(r'(.*?\\d).*')[0]\n",
    "\n",
    "# s = d.cc.unique()\n",
    "# s = [str(x) for x in s]\n",
    "# s.sort()\n",
    "\n",
    "# bins = np.arange(0.0, 36500.0, 365.0/12)\n",
    "# bins = np.append(bins,max(d['LOS'].dt.days))\n",
    "# count, bins_count = np.histogram(d['LOS'].dt.days, bins=bins)\n",
    "# pdf = count / sum(count)\n",
    "# cdf = np.cumsum(pdf) \n",
    "# d['LOS'].dt.days.hist(bins=bins)\n",
    "# los.hist(bins=32)\n",
    "\n",
    "\n",
    "\n",
    "\n",
    "#     numLOS['cum'] = cum.crime\n",
    "#     numLOS['cum_left'] = minus(cum.crime)\n",
    "#     numLOS['out_of_this_many'] = numLOS.cum_left+nu/mLOS.crime\n",
    "#     numLOS['transition'] = numLOS.crime/(numLOS.cum_left+numLOS.crime)\n",
    "\n",
    "#     print(numLOS)\n",
    "#     print(numLOS.index.to_numpy(),len(numLOS.index.to_numpy()))\n",
    "#     print(numLOS.to_numpy(),len(numLOS.to_numpy()))\n",
    "#     print(np.cumsum(numLOS))#,len(np.cumsum(numLOS.to_numpy())))\n",
    "#     print(square(np.cumsum(numLOS.to_numpy())))"
   ]
  }
 ],
 "metadata": {
  "kernelspec": {
   "display_name": "Python 3",
   "language": "python",
   "name": "python3"
  },
  "language_info": {
   "codemirror_mode": {
    "name": "ipython",
    "version": 3
   },
   "file_extension": ".py",
   "mimetype": "text/x-python",
   "name": "python",
   "nbconvert_exporter": "python",
   "pygments_lexer": "ipython3",
   "version": "3.8.5"
  }
 },
 "nbformat": 4,
 "nbformat_minor": 5
}
