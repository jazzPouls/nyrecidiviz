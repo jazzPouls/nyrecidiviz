{
 "cells": [
  {
   "cell_type": "code",
   "execution_count": 177,
   "id": "indonesian-relief",
   "metadata": {},
   "outputs": [],
   "source": [
    "import numpy as np\n",
    "import pandas as pd\n",
    "pd.options.display.max_rows = 4000\n",
    "pd.set_option('display.max_columns', 500)\n",
    "# pd.set_option('display.max_rows', 5000)\n",
    "pd.set_option('display.max_rows', None)"
   ]
  },
  {
   "cell_type": "code",
   "execution_count": 178,
   "id": "muslim-yacht",
   "metadata": {},
   "outputs": [],
   "source": [
    "dtypes = {'DOB':'datetime64'}\n",
    "date_cols = ['DOB','dateReceivedOriginal','dateReceivedCurrent','latestReleaseDate','paroleHearingDate','maxExpirationDateParole','postReleaseMaxExpiration','paroleBoardDischargeDate']\n",
    "date_cols_unpure = ['earliestRelaseDate','paroleEligibilityDate','conditionalReleaseDate','maxExpirationDate']\n",
    "transition_table_cols = ['custodyStatus','dateReceivedOriginal','latestReleaseDate','earliestReleaseDate','minSentence','maxSentence','crime1','class1','crime2','class2','crime3','class3','crime4','class4']"
   ]
  },
  {
   "cell_type": "code",
   "execution_count": 186,
   "id": "conscious-carol",
   "metadata": {},
   "outputs": [],
   "source": [
    "df = pd.read_csv(\"/Users/jpouls/recidiviz/nyrecidiviz/inmates2018.csv\",index_col=0,parse_dates=date_cols,na_filter=False)\n",
    "# df = pd.read_csv(\"/Users/jpouls/recidiviz/nyrecidiviz/inmates2018.csv\",index_col=0,na_filter=False)\n",
    "\n",
    "# dfs = [pd.read_csv(\"/Users/jazz/proj/doc-scraper/ny_inmate_data/inmates\"+str(year)+\".csv\",index_col=0,parse_dates=date_cols,na_filter=False) for year in range(2015,2020)]"
   ]
  },
  {
   "cell_type": "code",
   "execution_count": 191,
   "id": "specified-providence",
   "metadata": {},
   "outputs": [],
   "source": [
    "a1 = df[transition_table_cols]"
   ]
  },
  {
   "cell_type": "code",
   "execution_count": 192,
   "id": "suited-rebate",
   "metadata": {},
   "outputs": [
    {
     "name": "stdout",
     "output_type": "stream",
     "text": [
      "Deleting  2  rows where earliestReleaseDate == 'NONE'\n"
     ]
    }
   ],
   "source": [
    "print(\"Deleting \", len(a1[a1.earliestReleaseDate == 'NONE'].index), \" rows where earliestReleaseDate == 'NONE'\")\n",
    "a1 = a1[a1.earliestReleaseDate != 'NONE']\n",
    "a1.loc[a1.earliestReleaseDate == 'LIFE', 'earliestReleaseDate'] = '2/22/2222'"
   ]
  },
  {
   "cell_type": "code",
   "execution_count": 193,
   "id": "clear-battle",
   "metadata": {},
   "outputs": [],
   "source": [
    "a1['end_date'] = a1.latestReleaseDate.combine_first(a1.earliestReleaseDate)"
   ]
  },
  {
   "cell_type": "code",
   "execution_count": 199,
   "id": "pending-japan",
   "metadata": {},
   "outputs": [],
   "source": [
    "a1['LOS'] = a1.end_date - a1.dateReceivedOriginal\n",
    "slim = a1[['LOS','crime1','class1','crime2','class2','crime3','class3','crime4','class4']]"
   ]
  },
  {
   "cell_type": "code",
   "execution_count": 212,
   "id": "published-juvenile",
   "metadata": {
    "scrolled": false
   },
   "outputs": [
    {
     "name": "stderr",
     "output_type": "stream",
     "text": [
      "<ipython-input-212-1dfdf367c4df>:1: SettingWithCopyWarning: \n",
      "A value is trying to be set on a copy of a slice from a DataFrame.\n",
      "Try using .loc[row_indexer,col_indexer] = value instead\n",
      "\n",
      "See the caveats in the documentation: https://pandas.pydata.org/pandas-docs/stable/user_guide/indexing.html#returning-a-view-versus-a-copy\n",
      "  slim['crime1Type'] = slim.crime1.str.extract(r'((.*?)\\d.*)')[1]\n"
     ]
    },
    {
     "data": {
      "text/html": [
       "<div>\n",
       "<style scoped>\n",
       "    .dataframe tbody tr th:only-of-type {\n",
       "        vertical-align: middle;\n",
       "    }\n",
       "\n",
       "    .dataframe tbody tr th {\n",
       "        vertical-align: top;\n",
       "    }\n",
       "\n",
       "    .dataframe thead th {\n",
       "        text-align: right;\n",
       "    }\n",
       "</style>\n",
       "<table border=\"1\" class=\"dataframe\">\n",
       "  <thead>\n",
       "    <tr style=\"text-align: right;\">\n",
       "      <th></th>\n",
       "      <th>LOS</th>\n",
       "      <th>crime1</th>\n",
       "      <th>class1</th>\n",
       "      <th>crime2</th>\n",
       "      <th>class2</th>\n",
       "      <th>crime3</th>\n",
       "      <th>class3</th>\n",
       "      <th>crime4</th>\n",
       "      <th>class4</th>\n",
       "      <th>crime1Type</th>\n",
       "    </tr>\n",
       "    <tr>\n",
       "      <th>DIN</th>\n",
       "      <th></th>\n",
       "      <th></th>\n",
       "      <th></th>\n",
       "      <th></th>\n",
       "      <th></th>\n",
       "      <th></th>\n",
       "      <th></th>\n",
       "      <th></th>\n",
       "      <th></th>\n",
       "      <th></th>\n",
       "    </tr>\n",
       "  </thead>\n",
       "  <tbody>\n",
       "    <tr>\n",
       "      <th>18A0001</th>\n",
       "      <td>926 days</td>\n",
       "      <td>ATT ASSAULT 2ND</td>\n",
       "      <td>E</td>\n",
       "      <td>ATT CRIM POSS WEAP 2ND</td>\n",
       "      <td>D</td>\n",
       "      <td>BURGLARY 3RD</td>\n",
       "      <td>D</td>\n",
       "      <td></td>\n",
       "      <td></td>\n",
       "      <td>ATT ASSAULT</td>\n",
       "    </tr>\n",
       "    <tr>\n",
       "      <th>18A0002</th>\n",
       "      <td>338 days</td>\n",
       "      <td>ATT ROBBERY 3RD</td>\n",
       "      <td>E</td>\n",
       "      <td></td>\n",
       "      <td></td>\n",
       "      <td></td>\n",
       "      <td></td>\n",
       "      <td></td>\n",
       "      <td></td>\n",
       "      <td>ATT ROBBERY</td>\n",
       "    </tr>\n",
       "    <tr>\n",
       "      <th>18A0003</th>\n",
       "      <td>252 days</td>\n",
       "      <td>CRIM POSS MARIHUANA 3RD</td>\n",
       "      <td>E</td>\n",
       "      <td>CRIM POSS FIREARM</td>\n",
       "      <td>E</td>\n",
       "      <td></td>\n",
       "      <td></td>\n",
       "      <td></td>\n",
       "      <td></td>\n",
       "      <td>CRIM POSS MARIHUANA</td>\n",
       "    </tr>\n",
       "    <tr>\n",
       "      <th>18A0004</th>\n",
       "      <td>804 days</td>\n",
       "      <td>CRIM POSS STOLEN PROP 4TH</td>\n",
       "      <td>E</td>\n",
       "      <td></td>\n",
       "      <td></td>\n",
       "      <td></td>\n",
       "      <td></td>\n",
       "      <td></td>\n",
       "      <td></td>\n",
       "      <td>CRIM POSS STOLEN PROP</td>\n",
       "    </tr>\n",
       "    <tr>\n",
       "      <th>18A0005</th>\n",
       "      <td>685 days</td>\n",
       "      <td>ROBBERY 3RD</td>\n",
       "      <td>D</td>\n",
       "      <td>CRIM CONTEMPT 1ST</td>\n",
       "      <td>E</td>\n",
       "      <td></td>\n",
       "      <td></td>\n",
       "      <td></td>\n",
       "      <td></td>\n",
       "      <td>ROBBERY</td>\n",
       "    </tr>\n",
       "  </tbody>\n",
       "</table>\n",
       "</div>"
      ],
      "text/plain": [
       "             LOS                     crime1 class1                  crime2  \\\n",
       "DIN                                                                          \n",
       "18A0001 926 days            ATT ASSAULT 2ND      E  ATT CRIM POSS WEAP 2ND   \n",
       "18A0002 338 days            ATT ROBBERY 3RD      E                           \n",
       "18A0003 252 days    CRIM POSS MARIHUANA 3RD      E       CRIM POSS FIREARM   \n",
       "18A0004 804 days  CRIM POSS STOLEN PROP 4TH      E                           \n",
       "18A0005 685 days                ROBBERY 3RD      D       CRIM CONTEMPT 1ST   \n",
       "\n",
       "        class2        crime3 class3 crime4 class4              crime1Type  \n",
       "DIN                                                                        \n",
       "18A0001      D  BURGLARY 3RD      D                          ATT ASSAULT   \n",
       "18A0002                                                      ATT ROBBERY   \n",
       "18A0003      E                                       CRIM POSS MARIHUANA   \n",
       "18A0004                                            CRIM POSS STOLEN PROP   \n",
       "18A0005      E                                                   ROBBERY   "
      ]
     },
     "execution_count": 212,
     "metadata": {},
     "output_type": "execute_result"
    }
   ],
   "source": [
    "slim['crime1Type'] = slim.crime1.str.extract(r'((.*?)\\d.*)')[1]\n",
    "slim.head()"
   ]
  },
  {
   "cell_type": "code",
   "execution_count": 211,
   "id": "photographic-language",
   "metadata": {},
   "outputs": [
    {
     "ename": "TypeError",
     "evalue": "'float' object cannot be interpreted as an integer",
     "output_type": "error",
     "traceback": [
      "\u001b[0;31m---------------------------------------------------------------------------\u001b[0m",
      "\u001b[0;31mTypeError\u001b[0m                                 Traceback (most recent call last)",
      "\u001b[0;32m<ipython-input-211-8f7a97a7ed91>\u001b[0m in \u001b[0;36m<module>\u001b[0;34m\u001b[0m\n\u001b[0;32m----> 1\u001b[0;31m \u001b[0mcrim\u001b[0m \u001b[0;34m=\u001b[0m \u001b[0;34m[\u001b[0m\u001b[0mslim\u001b[0m\u001b[0;34m.\u001b[0m\u001b[0mLOS\u001b[0m\u001b[0;34m.\u001b[0m\u001b[0mgroupby\u001b[0m\u001b[0;34m(\u001b[0m\u001b[0;34m'crime1Type'\u001b[0m\u001b[0;34m)\u001b[0m\u001b[0;34m.\u001b[0m\u001b[0mquantile\u001b[0m\u001b[0;34m(\u001b[0m\u001b[0mq\u001b[0m\u001b[0;34m)\u001b[0m \u001b[0;32mfor\u001b[0m \u001b[0mq\u001b[0m \u001b[0;32min\u001b[0m \u001b[0mrange\u001b[0m\u001b[0;34m(\u001b[0m\u001b[0;36m0.0\u001b[0m\u001b[0;34m,\u001b[0m\u001b[0;36m1.0\u001b[0m\u001b[0;34m,\u001b[0m\u001b[0;36m.1\u001b[0m\u001b[0;34m)\u001b[0m\u001b[0;34m]\u001b[0m\u001b[0;34m\u001b[0m\u001b[0;34m\u001b[0m\u001b[0m\n\u001b[0m\u001b[1;32m      2\u001b[0m \u001b[0mcrim\u001b[0m\u001b[0;34m\u001b[0m\u001b[0;34m\u001b[0m\u001b[0m\n",
      "\u001b[0;31mTypeError\u001b[0m: 'float' object cannot be interpreted as an integer"
     ]
    }
   ],
   "source": [
    "\n",
    "crim = [slim.LOS.groupby('crime1Type').quantile(q) for q in range(0.0,1.0,.1)]\n",
    "crim"
   ]
  },
  {
   "cell_type": "code",
   "execution_count": 35,
   "id": "indie-demand",
   "metadata": {},
   "outputs": [
    {
     "data": {
      "text/plain": [
       "custodyStatus                    object\n",
       "dateReceivedOriginal     datetime64[ns]\n",
       "latestReleaseDate        datetime64[ns]\n",
       "earliestReleaseDate              object\n",
       "minSentence                     float64\n",
       "maxSentence                     float64\n",
       "end_date                 datetime64[ns]\n",
       "LOS                     timedelta64[ns]\n",
       "dtype: object"
      ]
     },
     "execution_count": 35,
     "metadata": {},
     "output_type": "execute_result"
    }
   ],
   "source": [
    "a1.dtypes"
   ]
  },
  {
   "cell_type": "code",
   "execution_count": null,
   "id": "sorted-chain",
   "metadata": {},
   "outputs": [],
   "source": []
  }
 ],
 "metadata": {
  "kernelspec": {
   "display_name": "Python 3",
   "language": "python",
   "name": "python3"
  },
  "language_info": {
   "codemirror_mode": {
    "name": "ipython",
    "version": 3
   },
   "file_extension": ".py",
   "mimetype": "text/x-python",
   "name": "python",
   "nbconvert_exporter": "python",
   "pygments_lexer": "ipython3",
   "version": "3.8.5"
  }
 },
 "nbformat": 4,
 "nbformat_minor": 5
}
